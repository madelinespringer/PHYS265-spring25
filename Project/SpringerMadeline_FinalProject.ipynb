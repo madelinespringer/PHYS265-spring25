{
 "cells": [
  {
   "cell_type": "markdown",
   "id": "943c1c1d-e256-482e-a9a7-a8617d03680b",
   "metadata": {},
   "source": [
    "# Final Project: Evaluating Emcee \n",
    "### Author: Madeline Springer | Course: PHYS265 | Date: May 16, 2025"
   ]
  },
  {
   "cell_type": "markdown",
   "id": "5510f486-6ec0-41e4-bdc0-88daea3d3a82",
   "metadata": {},
   "source": [
    "### 1: name of the package, describe what is the basic aim of what the package does or solve?\n",
    "The name of this package is emcee and it is a Python package for conducting Markov Chain Monte Carlo (MCMC) sampling. It is usually used for Bayesian inference which is a method of statistical inference where you calculate the probability of a hypothesis based on prior information and then it updates as new information becomes available. Emcee estimates the distribution of model parameters based on this information instead of producing a single best-fit value."
   ]
  },
  {
   "cell_type": "markdown",
   "id": "7ee36057-2377-4bce-a4f0-a8c7d454b5c4",
   "metadata": {},
   "source": [
    "### 2: why/how did you select this package? \n",
    "I chose emcee because I know that it is widely used in scientific data analysis. I currently have an internship where I am using Python for image analysis and need to find the best-fit for a curve so I thought exploring a package applicable to my work might be interesting. Whether or not I use emcee at my internship after completing this, I know it will be useful for any form of parameter estimation with uncertainty and provide me with a better understanding of Python."
   ]
  },
  {
   "cell_type": "markdown",
   "id": "0c659407-55ba-4fca-a266-e8d59b5e1672",
   "metadata": {},
   "source": [
    "### 3: how old is the package? does it have a geneology, i.e. what related codes came before or after. are there other codes you can find that solve the same problem? \n",
    "Emcee was first released around 2012 and developed by Dan Foreman-Mackey and several other collaborators. It is inspired by the affine-invariant ensemble sampler method which was created by Goodman and Weare in 2010. There are other tools that do similar things like PyMC3 and PyMC which let you build more complex Bayesian models, Stan and pystan which are powerful but harder to use, and dynesty which is another newer MCMC tool. All these tools solve the same kinds of problems: figuring out uncertain model parameters."
   ]
  },
  {
   "cell_type": "markdown",
   "id": "42303433-4e40-4744-9653-a01eebab407d",
   "metadata": {},
   "source": [
    "### 4: is it still maintained, and by the original author(s)? Are there instructions how to contribute to this project?\n",
    "Yes, it is. The author, Dan Foreman-Mackey, and others continue to update it and anyone can contribute by going to the GitHub page and following the instructions on how to suggest changes or improvements (https://github.com/dfm/emcee)."
   ]
  },
  {
   "cell_type": "markdown",
   "id": "bbd19e80-da32-4f0b-8342-2347e1b8f184",
   "metadata": {},
   "source": [
    "### 5: evaluate how easy it was to install and use. What commands did you use to install?\n",
    "It was super easy. I just used pip to install the package and then Python downloaded and installed it automatically."
   ]
  },
  {
   "cell_type": "code",
   "execution_count": 1,
   "id": "3c186462-e0c0-4fb4-9908-357746c0cccd",
   "metadata": {},
   "outputs": [
    {
     "name": "stdout",
     "output_type": "stream",
     "text": [
      "Requirement already satisfied: emcee in ./Library/jupyterlab-desktop/envs/sophemadi/lib/python3.12/site-packages (3.1.6)\n",
      "Requirement already satisfied: numpy in ./Library/jupyterlab-desktop/envs/sophemadi/lib/python3.12/site-packages (from emcee) (2.1.0)\n"
     ]
    },
    {
     "ename": "NameError",
     "evalue": "name 'emcee' is not defined",
     "output_type": "error",
     "traceback": [
      "\u001b[0;31m---------------------------------------------------------------------------\u001b[0m",
      "\u001b[0;31mNameError\u001b[0m                                 Traceback (most recent call last)",
      "Cell \u001b[0;32mIn[1], line 2\u001b[0m\n\u001b[1;32m      1\u001b[0m get_ipython()\u001b[38;5;241m.\u001b[39msystem(\u001b[38;5;124m'\u001b[39m\u001b[38;5;124mpip install emcee\u001b[39m\u001b[38;5;124m'\u001b[39m)\n\u001b[0;32m----> 2\u001b[0m \u001b[38;5;28mprint\u001b[39m(\u001b[38;5;124m\"\u001b[39m\u001b[38;5;124mVersion:\u001b[39m\u001b[38;5;124m\"\u001b[39m, \u001b[43memcee\u001b[49m\u001b[38;5;241m.\u001b[39m__version__)\n",
      "\u001b[0;31mNameError\u001b[0m: name 'emcee' is not defined"
     ]
    }
   ],
   "source": [
    "!pip install emcee\n",
    "print(\"Version:\", emcee.__version__)"
   ]
  },
  {
   "cell_type": "markdown",
   "id": "9ecb658e-bef4-4159-a4c2-636f336e351b",
   "metadata": {},
   "source": [
    "### 6: does it install via the \"standard\" pip/conda, or is it more complex?\n",
    "Yes, it does install using the \"standard\" pip/conda. Either one works!"
   ]
  },
  {
   "cell_type": "markdown",
   "id": "9f768ca8-9051-44ec-b405-779a57a4c795",
   "metadata": {},
   "source": [
    "### 7: is the source code available? For example, \"pip install galpy\" may get it to you, but where can you inspect the code?\n",
    "The source code is available on the page that I linked earlier (https://github.com/dfm/emcee). On its GitHub page, you can read and download the code in addition to suggesting changes to improve it or fix any bugs."
   ]
  },
  {
   "cell_type": "markdown",
   "id": "fb24114f-8373-425a-acad-e89b176cc8c4",
   "metadata": {},
   "source": [
    "### 8: is the code used by other packages (if so, give one or two examples). ASCL codes have citations via their ADS link. See also 22.\n",
    "Yes, other Python tools use this code and work well with emcee. For example, corner.py which makes triangle plots that show the output of your sampling and batman which is used to model light curves of planets as they pass in front of stars."
   ]
  },
  {
   "cell_type": "markdown",
   "id": "85b51555-5fea-4a9d-be33-fd3a5aa7dc42",
   "metadata": {},
   "source": [
    "### 9: How is the code used. Is it commandline, python script, or a jupyter notebook, or even a web interface? \n",
    "Emcee is usually used as a Python library so it's run from inside a Jupyter notebook or Python script. It technically could be called from the commandline, but it's much more frequently used in Jupyter notebooks because they let you add comments, visualize better, and include live code execution so they're better for exploring and experimenting. For this project, I'm using emcee from a Jupyter notebook which makes it easy to test the code and document the process in one place."
   ]
  },
  {
   "cell_type": "markdown",
   "id": "9a1b3c6a-bc0d-403a-9806-9203fb3a283a",
   "metadata": {},
   "source": [
    "### 10: provide examples using the code. if you prefer to use a jupyter notebook instead of a python script, that's ok. See also 12."
   ]
  },
  {
   "cell_type": "markdown",
   "id": "729002bb-7732-4174-a834-644fb47910ea",
   "metadata": {},
   "source": [
    "Below are two examples of how you can use emcee. The first example comes directly from emcee's page on GitHub (which can be found at https://emcee.readthedocs.io/en/v3.1.3/). It samples from a 5-dimensional multivariate Gaussian and defines the log-probability directly in terms of the parameters without using any real data. It's good for testing and understanding the mechanics of this sampler. The second is a real world example of how you can use emcee to fit noisy data to a straight line (y = mx + b). It defines a likelihood function based on the Gaussian noise model and uses priors to define the parameter space before creating a corner plot to show the distributions. This example demonstrates how emcee is helpful in data analysis."
   ]
  },
  {
   "cell_type": "code",
   "execution_count": null,
   "id": "d3197139-1a5a-409c-baa2-ca64958dc6e2",
   "metadata": {},
   "outputs": [],
   "source": [
    "## Example 1: Sampling from a Multivariate Gaussian \n",
    "import numpy as np\n",
    "import emcee\n",
    "\n",
    "# Define the likelihood\n",
    "def log_prob(x, ivar):\n",
    "    return -0.5 * np.sum(ivar * x ** 2)\n",
    "\n",
    "# Set up the walkers\n",
    "ndim, nwalkers = 5, 100\n",
    "ivar = 1. / np.random.rand(ndim)\n",
    "p0 = np.random.randn(nwalkers, ndim)\n",
    "\n",
    "# Create the sampler and run the MCMC chain\n",
    "sampler = emcee.EnsembleSampler(nwalkers, ndim, log_prob, args=[ivar])\n",
    "sampler.run_mcmc(p0, 10000)"
   ]
  },
  {
   "cell_type": "code",
   "execution_count": null,
   "id": "207d0dc9-2cef-40a4-8144-33796d1b235f",
   "metadata": {},
   "outputs": [],
   "source": [
    "## Example 2: Linear Regression\n",
    "import matplotlib.pyplot as plt\n",
    "\n",
    "# Generate random data\n",
    "np.random.seed(0)\n",
    "x = np.sort(10 * np.random.rand(50))\n",
    "y = 3.5 * x + 2.0 + np.random.randn(50)\n",
    "yerr = np.ones_like(y)\n",
    "\n",
    "# Define the model, likelihood, and prior\n",
    "def log_likelihood(theta, x, y, yerr):\n",
    "    m, b = theta\n",
    "    model = m * x + b\n",
    "    sigma2 = yerr ** 2\n",
    "    return -0.5 * np.sum((y - model) ** 2 / sigma2 + np.log(sigma2))\n",
    "\n",
    "def log_prior(theta):\n",
    "    m, b = theta\n",
    "    if 0.0 < m < 10.0 and 0.0 < b < 10.0:\n",
    "        return 0.0\n",
    "    return -np.inf\n",
    "\n",
    "def log_probability(theta, x, y, yerr):\n",
    "    lp = log_prior(theta)\n",
    "    if not np.isfinite(lp):\n",
    "        return -np.inf\n",
    "    return lp + log_likelihood(theta, x, y, yerr)\n",
    "\n",
    "# Set up the walkers\n",
    "pos = np.array([3.0, 1.0]) + 1e-4 * np.random.randn(32, 2)\n",
    "nwalkers, ndim = pos.shape\n",
    "sampler = emcee.EnsembleSampler(nwalkers, ndim, log_probability, args=(x, y, yerr))\n",
    "sampler.run_mcmc(pos, 2000, progress=True)"
   ]
  },
  {
   "cell_type": "markdown",
   "id": "6a574cf6-b064-45bc-a9f2-3d08b9a80500",
   "metadata": {},
   "source": [
    "### 11: does the package produce figures, or are you on your own? Is matplotlib used? \n",
    "Emcee doesn't create any figures automatically, but it works very well with matplotlib. Users must generate their own figures using the output of emcee which is structured so that creating plots is fairly straightforward. Emcee's creators also provide many examples on how to plot its output in their guide. "
   ]
  },
  {
   "cell_type": "markdown",
   "id": "c3e14468-5edf-4ebf-a38b-8679e4bb147d",
   "metadata": {},
   "source": [
    "### 12: your code and report should show at least one figure, and create a nice figure caption explaining what it shows. You notebook should show how the figure was made (i.e. be reproducable). Second figure is optional, but only use it when you need to illustrate something extra."
   ]
  },
  {
   "cell_type": "code",
   "execution_count": null,
   "id": "512e14a8-f577-4c58-be9d-b9f8c12eeb21",
   "metadata": {},
   "outputs": [],
   "source": [
    "# Plot the result from Question 10\n",
    "!pip install corner\n",
    "import corner\n",
    "flat_samples = sampler.get_chain(discard=100, thin=15, flat=True)\n",
    "fig = corner.corner(flat_samples, labels=[\"m\", \"b\"], truths=[3.5, 2.0])"
   ]
  },
  {
   "cell_type": "markdown",
   "id": "4deef774-b1f4-4b0f-9e65-e686a62a28af",
   "metadata": {},
   "source": [
    "The corner plot above shows the posterior probability distributions of the model parameters (slope m and y-intercept b for y = mx + b). This figure was created in this notebook and it's reproducible. The top left plot is the histogram of sampled slope and the bottom right plot is the histogram of the sampled y-intercepts. Then, in the bottom left, the plot demonstrates the relationship between the slope and intercept in the posterior distribution. Each dot is one sample from the MCMC sampler and the contours show regions of equal probability density (darker = more likely, lighter = less likely). The tighter and smaller the contours, the less uncertainty is present. As for the tilt, it means that slope and intercept are correlated so if you change one slightly, you can change the other to compensate and try to preserve the fit. The more circular the contours are, the more independent your parameters are. "
   ]
  },
  {
   "cell_type": "markdown",
   "id": "ab20e721-5989-4330-b3e4-e529996a23fc",
   "metadata": {},
   "source": [
    "### 13: is the package pure python? or does it need accompanying C/C++/Fortran code? \n",
    "Emcee is a pure Python package and does not need any accompanying C/C++/Fortran code. This way the package is portable and very easy to install on any platform just by using pip like I did earlier."
   ]
  },
  {
   "cell_type": "markdown",
   "id": "61e1f014-932f-45e8-b729-64f31227e3be",
   "metadata": {},
   "source": [
    "### 14: what is the input to the package? Just parameters, or dataset(s), or can they be generated from scratch?\n",
    "Emcee's primary input is a function that defines the log-probability. As you can see in my earlier example, it's often made up of a prior and likelihood. Also, you input an initial guess for the parameter values. You can pass in data as arguments to the likelihood function to define it as needed. "
   ]
  },
  {
   "cell_type": "markdown",
   "id": "b4a18240-173c-4114-9ad9-5a0fde1b0bd8",
   "metadata": {},
   "source": [
    "### 15: what is the output of the package? Just parameters, or dataset(s)?, or just a screen output you would need to capture\n",
    "The output of emcee is a multidimensional NumPy array with the sampled values of the parameters from all of the walkers. You can use the data to estimate the best-fit parameters, graph the posterior distribution, and/or calculate the uncertainties. "
   ]
  },
  {
   "cell_type": "markdown",
   "id": "95b970e8-8b7d-4458-badc-8f4042a43ac4",
   "metadata": {},
   "source": [
    "### 16: does the code provide any unit tests, regression or benchmarking?\n",
    "Yes, emcee does. It includes a test suite that you can run with pytest. The code (on GitHub) will integrate continuously and automatically runs tests when changes are made to ensure that updates don't break anything. "
   ]
  },
  {
   "cell_type": "markdown",
   "id": "d816b305-68d4-4b96-9c72-4f79a5d24061",
   "metadata": {},
   "source": [
    "### 17: how can you feel confident the code produce a reliable result? (see also previous question)\n",
    "Emcee is used very widley and cited in hundreds of peer-reviewed papers so it's obvious that it's reliable and trusted in comparison to some more niche packages. It also has open-source tests and examples to show how it performs in known situations. Plus, its algorithm, which is an affine-invariant ensemble sampler, was published in a respected paper and is mathematically based (Goodman & Weare, 2010). You can check the convergence in order to verify the results too."
   ]
  },
  {
   "cell_type": "markdown",
   "id": "de381a4f-3887-4d15-b603-4fe279b76664",
   "metadata": {},
   "source": [
    "### 18: what (main) python package(s) does it use or depend on (e.g. numpy, curve_fit, solve_ivp) - how did you find this out?\n",
    "Emcee depends on numpy for numerical operations, scipy sometimes for user-defined likelihoods, tqdm for showing progress bars, and then you can also use corner like I did previously to make plots. Corner isn't required to use emcee itself, but it's very important for visualizing and better understanding its results. I found all this using the line of code below and then accessing its home page again for more information. "
   ]
  },
  {
   "cell_type": "code",
   "execution_count": null,
   "id": "8f2f0200-bfff-4afa-95fe-446cae1d7172",
   "metadata": {},
   "outputs": [],
   "source": [
    "pip show emcee"
   ]
  },
  {
   "cell_type": "markdown",
   "id": "4f9d8183-988d-4332-ae35-65e23fdb5253",
   "metadata": {},
   "source": [
    "### 19: what kind of documentation does the package provide? was it sufficient for you?\n",
    "The package has a home page with documentation (see above) and it has lots of information including a quickstart guide, API references, example notebooks, and the mathematical background of the code. It was very easy to understand so I know it's good for beginners (me) and it was the main source of my understanding of how to write the MCMC code. "
   ]
  },
  {
   "cell_type": "markdown",
   "id": "3232e8a7-69f6-4b61-a607-1516804b1df0",
   "metadata": {},
   "source": [
    "### 20: if you use this code in a paper, do they give a preferred citation method? \n",
    "Yep! They include a preferred citation on the documentation site which is as follows:\n",
    "\n",
    "Foreman-Mackey, D., et al. (2013). “emcee: The MCMC Hammer.” Publications of the Astronomical Society of the Pacific, 125(925), 306. DOI:10.1086/670067 (https://doi.org/10.1086/670067)"
   ]
  },
  {
   "cell_type": "markdown",
   "id": "cd168b3e-c9b5-4239-a457-d14d73586d49",
   "metadata": {},
   "source": [
    "### 21: provide any other references you used in your report.\n",
    "\n",
    "1. Foreman-Mackey et al. (2013), original emcee paper.\n",
    "2. emcee documentation: https://emcee.readthedocs.io\n",
    "3. corner.py documentation: https://corner.readthedocs.io"
   ]
  },
  {
   "cell_type": "markdown",
   "id": "fa22545b-5657-4062-b9f7-c8701a73000c",
   "metadata": {},
   "source": [
    "### 22: can you find two other papers that used this package. E.g. use ADS citations for ASCL based code. See also 8.\n",
    "Yes, I found two other papers that used this package from NASA ADS because emcee is used a lot in astrophysics and they are listed below. \n",
    "1. Agol et al. (2020) – “Transit Timing Variations with TESS” (used emcee for Bayesian modeling)\n",
    "2. Barbary et al. (2017) – “sncosmo: Python library for supernova cosmology” (used emcee for parameter fitting)"
   ]
  },
  {
   "cell_type": "markdown",
   "id": "22d8d8f8-06df-4479-8fa4-b62b73bb8c2b",
   "metadata": {},
   "source": [
    "### 23: did you have to learn new python methods to use this package? Or was the class good enough to get you through this project.\n",
    "Yes, I did use new Python methods while working with emcee. I already learned about MCMC in class, but I got more practice working with corner and also with defining log-likelihood and log-prior functions. Emcee is simple enough that I was able to get pretty far based on my understanding of coding from the class, but also doing it yourself is different than typing what a professor instructs you to so I kind of had to think a little more."
   ]
  },
  {
   "cell_type": "markdown",
   "id": "55bfa30a-7a5f-44b9-832a-5feb790fc8fa",
   "metadata": {},
   "source": [
    "### 24: Final Disclaimer: you need to state if you have prior experience in using the package or the data, or this is all new to you. In addition, if you collaborated in a group, as long as this is your work.\n",
    "I've never used emcee before so it's all new to me and I did talk about the project with others doing emcee to clarify and confirm some of my answers, but I completed this report entirely on my own. "
   ]
  },
  {
   "cell_type": "code",
   "execution_count": null,
   "id": "58c6fc0e-ed9d-443b-862b-df2088e57419",
   "metadata": {},
   "outputs": [],
   "source": []
  }
 ],
 "metadata": {
  "kernelspec": {
   "display_name": "Python 3 (ipykernel)",
   "language": "python",
   "name": "python3"
  },
  "language_info": {
   "codemirror_mode": {
    "name": "ipython",
    "version": 3
   },
   "file_extension": ".py",
   "mimetype": "text/x-python",
   "name": "python",
   "nbconvert_exporter": "python",
   "pygments_lexer": "ipython3",
   "version": "3.12.5"
  }
 },
 "nbformat": 4,
 "nbformat_minor": 5
}
